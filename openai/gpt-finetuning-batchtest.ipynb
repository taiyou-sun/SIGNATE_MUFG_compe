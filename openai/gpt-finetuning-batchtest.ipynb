{
 "cells": [
  {
   "cell_type": "code",
   "execution_count": null,
   "metadata": {},
   "outputs": [],
   "source": [
    "from dotenv import load_dotenv\n",
    "from openai import OpenAI\n",
    "\n",
    "# Load environment variables from .env file\n",
    "load_dotenv()\n",
    "\n",
    "# OpenAI APIキーの設定（環境変数から読み取る）\n",
    "openai.api_key = os.getenv(\"OPENAI_API_KEY\")"
   ]
  },
  {
   "cell_type": "code",
   "execution_count": 19,
   "metadata": {},
   "outputs": [
    {
     "name": "stdout",
     "output_type": "stream",
     "text": [
      "JSONLファイルが作成されました: test_formatted.jsonl\n",
      "Batch(id='batch_21DNE8b1uVFnw9tBvQ6ZKDpJ', completion_window='24h', created_at=1723672217, endpoint='/v1/chat/completions', input_file_id='file-QvW8mdvuU0qwXS9QIyuZPdsi', object='batch', status='validating', cancelled_at=None, cancelling_at=None, completed_at=None, error_file_id=None, errors=None, expired_at=None, expires_at=1723758617, failed_at=None, finalizing_at=None, in_progress_at=None, metadata=None, output_file_id=None, request_counts=BatchRequestCounts(completed=0, failed=0, total=0))\n"
     ]
    }
   ],
   "source": [
    "import pandas as pd\n",
    "\n",
    "def process_data(df):\n",
    "    \"\"\"\n",
    "    データを処理し、フォーマットされたテキストを返す。\n",
    "    \n",
    "    :param df: データフレーム\n",
    "    :return: フォーマットされたデータ\n",
    "    \"\"\"\n",
    "    processed_data = []\n",
    "    for _, row in df.iterrows():\n",
    "        review = row['review']\n",
    "        reply = row['replyContent']\n",
    "        thumbsUpCount = row['thumbsUpCount']\n",
    "        reviewCreatedVersion = row['reviewCreatedVersion']\n",
    "        timeToReply = row['timeToReply']\n",
    "        processed_data.append(f\"Review: {review}\\nthumbsUpCount: {thumbsUpCount}, reviewCreatedVersion: {reviewCreatedVersion}\\nReply: {reply}\\ntimeToReply: {timeToReply}\")\n",
    "    return processed_data\n",
    "\n",
    "# データの読み込み\n",
    "import pandas as pd\n",
    "test_df = pd.read_csv('../test.csv')\n",
    "\n",
    "new_df = pd.DataFrame()\n",
    "\n",
    "reviews = process_data(test_df)  # process_data関数は既存のコードからそのまま使用\n",
    "\n",
    "save_file = \"test_formatted.jsonl\"\n",
    "\n",
    "model_name = \"ft:gpt-4o-mini-2024-07-18:personal::9w9nRfyc\"\n",
    "\n",
    "import json\n",
    "\n",
    "# JSONLファイルに書き込む\n",
    "with open(save_file, 'w', encoding='utf-8') as f:\n",
    "    for i, review in enumerate(reviews):\n",
    "        data = {\n",
    "            \"custom_id\": f\"request-{i+2}\",  # request-2から始まるように変更\n",
    "            \"method\": \"POST\",\n",
    "            \"url\": \"/v1/chat/completions\",\n",
    "            \"body\": {\n",
    "                \"model\": model_name,  # モデルを指定\n",
    "                \"messages\": [\n",
    "                    {\n",
    "                        \"role\": \"system\",\n",
    "                        \"content\": \"You are an AI assistant specialized in analyzing detailed app reviews for BANKApp and predicting review scores. Given a review that includes the review text, thumbs up count, app version, official reply , and reply time, you will predict the likely star rating (0-4 stars) the reviewer would give. Consider all provided information in your analysis. Factors to consider include the sentiment of the review, the app version, the presence and quality of an official reply, and the response time. Provide only the numerical score without any explanation or additional commentary.\"\n",
    "                    },\n",
    "                    {\n",
    "                        \"role\": \"user\",\n",
    "                        \"content\": review\n",
    "                    }\n",
    "                ],\n",
    "                \"max_tokens\": 1000  # 必要に応じて調整\n",
    "            }\n",
    "        }\n",
    "        json.dump(data, f, ensure_ascii=False)\n",
    "        f.write('\\n')  # 各JSONオブジェクトの後に改行を追加\n",
    "\n",
    "print(f\"JSONLファイルが作成されました: {save_file}\")\n",
    "\n",
    "from openai import OpenAI\n",
    "client = OpenAI()\n",
    "\n",
    "test = client.files.create(\n",
    "  file=open(\"test_formatted.jsonl\", \"rb\"),\n",
    "  purpose=\"batch\"\n",
    ")\n",
    "\n",
    "test_batch = client.batches.create(\n",
    "    input_file_id=test.id,\n",
    "    endpoint=\"/v1/chat/completions\",\n",
    "    completion_window=\"24h\",\n",
    ")\n",
    "print(test_batch)"
   ]
  },
  {
   "cell_type": "code",
   "execution_count": null,
   "metadata": {},
   "outputs": [],
   "source": []
  },
  {
   "cell_type": "code",
   "execution_count": 4,
   "metadata": {},
   "outputs": [
    {
     "data": {
      "text/plain": [
       "Batch(id='batch_NvG7laxzQIyMCFpwolT9cCpU', completion_window='24h', created_at=1723670958, endpoint='/v1/chat/completions', input_file_id='file-V0vdVB9nWJYNyRC07i3wHCr3', object='batch', status='cancelled', cancelled_at=1723673522, cancelling_at=1723672530, completed_at=None, error_file_id='file-SToCk9t7gMQNA4fvignVq79e', errors=None, expired_at=None, expires_at=1723757358, failed_at=None, finalizing_at=None, in_progress_at=1723670963, metadata=None, output_file_id=None, request_counts=BatchRequestCounts(completed=0, failed=2181, total=5846))"
      ]
     },
     "execution_count": 4,
     "metadata": {},
     "output_type": "execute_result"
    }
   ],
   "source": [
    "from openai import OpenAI\n",
    "client = OpenAI()\n",
    "\n",
    "client.batches.retrieve(\"batch_NvG7laxzQIyMCFpwolT9cCpU\")"
   ]
  },
  {
   "cell_type": "code",
   "execution_count": 3,
   "metadata": {},
   "outputs": [
    {
     "data": {
      "text/plain": [
       "Batch(id='batch_ovI3kPD1Vo2j7YQCcM0rvQUj', completion_window='24h', created_at=1723721154, endpoint='/v1/chat/completions', input_file_id='file-K8kzDiu6FSA63fBcHba2jAEH', object='batch', status='cancelling', cancelled_at=None, cancelling_at=1723722548, completed_at=None, error_file_id=None, errors=None, expired_at=None, expires_at=1723807554, failed_at=None, finalizing_at=None, in_progress_at=1723721160, metadata=None, output_file_id=None, request_counts=BatchRequestCounts(completed=6166, failed=0, total=8767))"
      ]
     },
     "execution_count": 3,
     "metadata": {},
     "output_type": "execute_result"
    }
   ],
   "source": [
    "from openai import OpenAI\n",
    "client = OpenAI()\n",
    "\n",
    "client.batches.cancel(\"batch_ovI3kPD1Vo2j7YQCcM0rvQUj\")"
   ]
  },
  {
   "cell_type": "code",
   "execution_count": 10,
   "metadata": {},
   "outputs": [
    {
     "name": "stdout",
     "output_type": "stream",
     "text": [
      "CSVファイルが作成されました: output.csv\n"
     ]
    }
   ],
   "source": [
    "import json\n",
    "\n",
    "from openai import OpenAI\n",
    "client = OpenAI()\n",
    "\n",
    "file_response = client.files.content(\"file-u5qVJt82VgzVmq9UfgDJxXV3\")\n",
    "\n",
    "# contentの値を抽出するためのリスト\n",
    "content_list = []\n",
    "\n",
    "# file_response.text を一行ずつ処理\n",
    "for line in file_response.text.splitlines():\n",
    "    # JSON文字列を辞書に変換\n",
    "    data = json.loads(line)\n",
    "\n",
    "    # \"response\" -> \"body\" -> \"choices\" -> [0] -> \"message\" -> \"content\" の順にアクセス\n",
    "    content = data.get(\"response\", {}).get(\"body\", {}).get(\"choices\", [{}])[0].get(\"message\", {}).get(\"content\")\n",
    "\n",
    "    # content が存在する場合のみリストに追加\n",
    "    if content is not None:\n",
    "        content_list.append(content)\n",
    "\n",
    "# CSVファイルに書き込む\n",
    "with open(\"output.csv\", \"w\") as f:\n",
    "    for i, content in enumerate(content_list):\n",
    "        f.write(f\"{i+8767},{content}\\n\")\n",
    "\n",
    "print(\"CSVファイルが作成されました: output.csv\")"
   ]
  },
  {
   "cell_type": "code",
   "execution_count": null,
   "metadata": {},
   "outputs": [],
   "source": []
  }
 ],
 "metadata": {
  "kernelspec": {
   "display_name": "nlp_env",
   "language": "python",
   "name": "python3"
  },
  "language_info": {
   "codemirror_mode": {
    "name": "ipython",
    "version": 3
   },
   "file_extension": ".py",
   "mimetype": "text/x-python",
   "name": "python",
   "nbconvert_exporter": "python",
   "pygments_lexer": "ipython3",
   "version": "3.10.14"
  }
 },
 "nbformat": 4,
 "nbformat_minor": 2
}
